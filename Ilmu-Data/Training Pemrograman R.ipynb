{
 "cells": [
  {
   "cell_type": "code",
   "execution_count": 4,
   "metadata": {},
   "outputs": [
    {
     "name": "stderr",
     "output_type": "stream",
     "text": [
      "── Attaching packages ─────────────────────────────────────── tidyverse 1.2.1 ──\n",
      "✔ ggplot2 3.3.1     ✔ purrr   0.3.2\n",
      "✔ tibble  3.0.1     ✔ dplyr   1.0.0\n",
      "✔ tidyr   0.8.3     ✔ stringr 1.4.0\n",
      "✔ readr   1.3.1     ✔ forcats 0.4.0\n",
      "── Conflicts ────────────────────────────────────────── tidyverse_conflicts() ──\n",
      "✖ dplyr::filter() masks stats::filter()\n",
      "✖ dplyr::lag()    masks stats::lag()\n"
     ]
    }
   ],
   "source": [
    "library(tidyverse)"
   ]
  },
  {
   "cell_type": "code",
   "execution_count": 285,
   "metadata": {},
   "outputs": [
    {
     "data": {
      "text/html": [
       "'/home/dev/Documents/SADASA/practice'"
      ],
      "text/latex": [
       "'/home/dev/Documents/SADASA/practice'"
      ],
      "text/markdown": [
       "'/home/dev/Documents/SADASA/practice'"
      ],
      "text/plain": [
       "[1] \"/home/dev/Documents/SADASA/practice\""
      ]
     },
     "metadata": {},
     "output_type": "display_data"
    },
    {
     "name": "stdout",
     "output_type": "stream",
     "text": [
      "[1] \"1\"    \"1\"    \"coba\"\n",
      "[1] 21\n",
      "coba maneh\n"
     ]
    },
    {
     "data": {
      "text/html": [
       "'coba bedanya\\n\\t'"
      ],
      "text/latex": [
       "'coba bedanya\\textbackslash{}n\\textbackslash{}t'"
      ],
      "text/markdown": [
       "'coba bedanya\\n\\t'"
      ],
      "text/plain": [
       "[1] \"coba bedanya\\n\\t\""
      ]
     },
     "metadata": {},
     "output_type": "display_data"
    },
    {
     "name": "stdout",
     "output_type": "stream",
     "text": [
      "[1] \"coba\"      \"bedanya\\n\"\n",
      "tulis namamu disini: \n",
      "[1] \"namamu adalah:  \"\n"
     ]
    },
    {
     "data": {
      "text/html": [
       "'tulis namamu: ini nama\\n ini nilaimu: 10'"
      ],
      "text/latex": [
       "'tulis namamu: ini nama\\textbackslash{}n ini nilaimu: 10'"
      ],
      "text/markdown": [
       "'tulis namamu: ini nama\\n ini nilaimu: 10'"
      ],
      "text/plain": [
       "[1] \"tulis namamu: ini nama\\n ini nilaimu: 10\""
      ]
     },
     "metadata": {},
     "output_type": "display_data"
    },
    {
     "name": "stdout",
     "output_type": "stream",
     "text": [
      "tulis namamu: ini nama\n",
      "ini nilaimu: 10"
     ]
    },
    {
     "name": "stderr",
     "output_type": "stream",
     "text": [
      "tulis namamu: ini nama\n",
      "ini nilaimu: 10\n"
     ]
    },
    {
     "data": {
      "text/html": [
       "'nilai: 10'"
      ],
      "text/latex": [
       "'nilai: 10'"
      ],
      "text/markdown": [
       "'nilai: 10'"
      ],
      "text/plain": [
       "nilai: 10"
      ]
     },
     "metadata": {},
     "output_type": "display_data"
    },
    {
     "name": "stdout",
     "output_type": "stream",
     "text": [
      "siapa? ok\n"
     ]
    },
    {
     "name": "stderr",
     "output_type": "stream",
     "text": [
      "namamu adalah: ok\n"
     ]
    }
   ],
   "source": [
    "#Training Pemrograman R - Sesi 1: Variabel, Assignment dan Operasi Aritmetika\n",
    "getwd()\n",
    "setwd(\"./\")\n",
    "a <- 1\n",
    "b = as.factor(a)\n",
    "c = \"coba\"\n",
    "print(c(a,b,c))\n",
    "\n",
    "d = (9%%2)+(10/2)*(2^2)\n",
    "print(d)\n",
    "\n",
    "cat(\"coba\",\"maneh\\n\")\n",
    "paste(\"coba\", \"bedanya\\n\\t\")\n",
    "print(c(\"coba\",\"bedanya\\n\"))\n",
    "\n",
    "\n",
    "nama=\"ini nama\"\n",
    "nilai=10\n",
    "print(paste(\"namamu adalah: \",readline(prompt = \"tulis namamu disini: \")))\n",
    "sprintf(\"tulis namamu: %s\\n ini nilaimu: %d\",nama,nilai)\n",
    "cat(sprintf(\"tulis namamu: %s\\nini nilaimu: %d\",nama,nilai))\n",
    "message(sprintf(\"tulis namamu: %s\\nini nilaimu: %d\",nama,nilai))\n",
    "#glue with cruel bracket\n",
    "library(glue)\n",
    "glue(\"nilai: {nilai}\")\n",
    "\n",
    "nama=readline(prompt=\"siapa? \")\n",
    "message(glue(\"namamu adalah: {nama}\"))"
   ]
  },
  {
   "cell_type": "code",
   "execution_count": 471,
   "metadata": {},
   "outputs": [
    {
     "data": {
      "text/html": [
       "TRUE"
      ],
      "text/latex": [
       "TRUE"
      ],
      "text/markdown": [
       "TRUE"
      ],
      "text/plain": [
       "[1] TRUE"
      ]
     },
     "metadata": {},
     "output_type": "display_data"
    },
    {
     "name": "stdout",
     "output_type": "stream",
     "text": [
      "[1] \"else-true\"\n",
      "[1] \"true\"\n"
     ]
    },
    {
     "data": {
      "text/html": [
       "'true'"
      ],
      "text/latex": [
       "'true'"
      ],
      "text/markdown": [
       "'true'"
      ],
      "text/plain": [
       "[1] \"true\""
      ]
     },
     "metadata": {},
     "output_type": "display_data"
    },
    {
     "name": "stdout",
     "output_type": "stream",
     "text": [
      "[1] \"arrNo3\"\n",
      "[1] 1\n",
      "[1] 2\n",
      "[1] \"coba\"\n",
      "[1] \"coba\"\n",
      "[1] \"coba\"\n",
      "[1] 0\n",
      "[1] 1\n",
      "[1] 2\n",
      "[1] 3\n",
      "[1] 4\n"
     ]
    }
   ],
   "source": [
    "#Training Pemrograman R - Sesi 2: Logical operators, Flow Control dan Looping\n",
    "\n",
    "####logical operation: >,<,=,!\n",
    "a = 10\n",
    "b = 20\n",
    "a<b\n",
    "\n",
    "####if else\n",
    "if(0){\n",
    "    print(\"true\")\n",
    "}else{\n",
    "    if(1)\n",
    "        print(\"else-true\")\n",
    "    else\n",
    "        print(\"else-else\")\n",
    "}\n",
    "\n",
    "(\n",
    "    if(1)\n",
    "        print(\"true\")\n",
    "    else\n",
    "        print(\"else\")\n",
    ")\n",
    "\n",
    "####switch\n",
    "nilSW_input=3\n",
    "#switch(checker,arrNo1,arrNo2,arrNo3,etc)\n",
    "#switch(checker,ifthis,ifthis,orthis)\n",
    "#switch(\n",
    "#    checker,\n",
    "#    check1=\"do this\"\n",
    "#    check2=\"do else\"\n",
    "#)\n",
    "switch(\n",
    "    nilSW_input,\n",
    "    1,\n",
    "    print(\"ok\"),\n",
    "    print(\"arrNo3\")\n",
    ")\n",
    "\n",
    "#### for iteration in iterate_list\n",
    "for(i in 1:2){print(i)}\n",
    "for(i in 1:3)\n",
    "    print(\"coba\")\n",
    "\n",
    "#### while meet condition\n",
    "n=0\n",
    "while(n<5){\n",
    "    print(n)\n",
    "    n=n+1\n",
    "}\n",
    "\n",
    "##########################TUGAS\n",
    "#1.print nilai sesuai input\n",
    "numGen <- function(x){\n",
    "    for(i in readline(prompt = \"masukan nilai awal: \"):readline(\"masukan nilai akhir: \"))\n",
    "    message(i)\n",
    "}\n",
    "\n",
    "#prima atau ganjil\n",
    "prim_gan <- function(menu){\n",
    "    #2.print semua bilangan prima\n",
    "    bil_prim <- function(nilai){\n",
    "        if(nilai%%2==0) cat(sprintf(\"%d adalah nomor genap\\n\",nilai))\n",
    "        else print(\"terjadi kesalahan\")\n",
    "    }\n",
    "    if(menu==\"prima\")\n",
    "        for(i in readline(prompt = \"awal: \"):readline(prompt = \"akhir: \")){\n",
    "    }\n",
    "}\n"
   ]
  },
  {
   "cell_type": "code",
   "execution_count": 472,
   "metadata": {},
   "outputs": [
    {
     "ename": "ERROR",
     "evalue": "Error in parse(text = x, srcfile = src): <text>:3:9: unexpected 'else'\n2:         if(nilai/2==0) cat(sprintf(\"%d adalah nomor prima\\n\",nilai))\n3:         else\n           ^\n",
     "output_type": "error",
     "traceback": [
      "Error in parse(text = x, srcfile = src): <text>:3:9: unexpected 'else'\n2:         if(nilai/2==0) cat(sprintf(\"%d adalah nomor prima\\n\",nilai))\n3:         else\n           ^\nTraceback:\n"
     ]
    }
   ],
   "source": [
    "##    bil_prim <- function(nilai){\n",
    "        if(nilai/2==0) cat(sprintf(\"%d adalah nomor prima\\n\",nilai))\n",
    "        else cat(sprintf(\"terjadi kesalahan/ %d bukan bil prima\\n\",nilai))\n",
    "    }\n",
    "    bil_ganjil <- function(nilai){\n",
    "        if(nilai%%2==1) cat(sprintf(\"%d adalah nomor ganjil\\n\",nilai))\n",
    "        else cat(sprintf(\"terjadi kesalahan/ %d bukan bil ganjil\\n\",nilai))\n",
    "    }\n",
    "bil_prim(3)\n",
    "\n",
    "batas <- as.numeric(readline(prompt = \"Masukkan batas akhir = \"))\n",
    "\n",
    "angka <- 1\n",
    "\n",
    "while(angka<=batas){\n",
    "\n",
    "  faktor <- 0\n",
    "\n",
    "  pembagi <- 1\n",
    "\n",
    "  while(pembagi<=angka){\n",
    "\n",
    "    if(angka %% pembagi == 0)\n",
    "\n",
    "      faktor <- faktor + 1\n",
    "\n",
    "      pembagi <- pembagi + 1\n",
    "\n",
    "    }\n",
    "\n",
    "    if(faktor == 2)\n",
    "\n",
    "      print(angka)\n",
    "\n",
    "      angka <- angka + 1\n",
    "\n",
    "}"
   ]
  },
  {
   "cell_type": "code",
   "execution_count": 191,
   "metadata": {},
   "outputs": [
    {
     "name": "stdout",
     "output_type": "stream",
     "text": [
      "     [,1] [,2] [,3] [,4]\n",
      "[1,]    1    2    3    1\n"
     ]
    },
    {
     "name": "stderr",
     "output_type": "stream",
     "text": [
      "1231\n"
     ]
    },
    {
     "name": "stdout",
     "output_type": "stream",
     "text": [
      "     [,1] [,2] [,3] [,4]\n",
      "[1,]    1    3    2    1\n",
      "[2,]    2    1    3    2\n"
     ]
    },
    {
     "name": "stderr",
     "output_type": "stream",
     "text": [
      "12312312\n"
     ]
    },
    {
     "name": "stdout",
     "output_type": "stream",
     "text": [
      "     [,1] [,2] [,3] [,4]\n",
      "[1,]    1    1    1    1\n",
      "[2,]    2    2    2    2\n",
      "[3,]    3    3    3    3\n"
     ]
    },
    {
     "name": "stderr",
     "output_type": "stream",
     "text": [
      "123123123123\n"
     ]
    },
    {
     "name": "stdout",
     "output_type": "stream",
     "text": [
      ", , metrik_1\n",
      "\n",
      "      kol.1 kol.2 kol.3 kol.4\n",
      "1.row     1     1     1     1\n",
      "2.row     2     2     2     2\n",
      "3.row     3     3     3     3\n",
      "\n",
      ", , metrik_2\n",
      "\n",
      "      kol.1 kol.2 kol.3 kol.4\n",
      "1.row     1     1     1     1\n",
      "2.row     2     2     2     2\n",
      "3.row     3     3     3     3\n",
      "\n",
      ", , metrik_3\n",
      "\n",
      "      kol.1 kol.2 kol.3 kol.4\n",
      "1.row     1     1     1     1\n",
      "2.row     2     2     2     2\n",
      "3.row     3     3     3     3\n",
      "\n"
     ]
    }
   ],
   "source": [
    "#Training Pemrograman R - Sesi 4: Collection\n",
    "x <- c(1:3)\n",
    "c(3:5) -> y\n",
    "#b <- array(1:3,array(1:3))\n",
    "#b <- array(1:3,c(2,3,4))\n",
    "c <- x + y\n",
    "#    OR\n",
    "     x - y -> c\n",
    "#collide as one\n",
    "#     ----->\n",
    "#x = [1,2,3] |\n",
    "#y = [3,4,5] |\n",
    "#c = [4,6,8] v\n",
    "\n",
    "a <- array(1:5)\n",
    "# a[0] for header\n",
    "# a[1] |output|>> 1\n",
    "\n",
    "\n",
    "#ingat, yang akan dipenuhi dulu adalah kolomnya!!\n",
    "#buktikan dengan array2 dimensi dibawah!!\n",
    "b <- array(1:3,c(1,4)); message(print(b)) #1row x 4column\n",
    "#|output|>> 1 2 3 1\n",
    "b <- array(1:3,c(2,4)); message(print(b)) #2row x 4column\n",
    "#|output|>> 1 3 2 1\n",
    "#        >> 2 1 3 2\n",
    "b <- array(1:3,c(3,4)); message(print(b)) #3row x 4column\n",
    "#|output|>> 1 1 1 1\n",
    "#        >> 2 2 2 2\n",
    "#        >> 3 3 3 3\n",
    "\n",
    "\n",
    "# coba array 3 dimensi\n",
    "# array(nilai,besaran dimensi)\n",
    "# array(data = ,dim = ,dimnames = )\n",
    "# dimensi= c(x,y,z)\n",
    "data.frame(head1 = c(1:3),head2 = c(1:3)) -> z\n",
    "\n",
    "# dim4      dim3    dim2\n",
    "# (1,1)\n",
    "#    aaa\n",
    "#    axx\n",
    "# (1,2)     (1)\n",
    "#    aaa     aaa\n",
    "#    bxx     bbb    (NA)\n",
    "#                     aaa\n",
    "# (2,1)     (2)       bbb\n",
    "#    bbb     aaa\n",
    "#    axx     bbb\n",
    "# (2,2)\n",
    "#    bbb\n",
    "#    bxx\n",
    "#message(print(b)) #Error in array(1:3, 1, 2): 'dimnames' must be a list\n",
    "metriku.size.r=3\n",
    "metriku.size.c=4\n",
    "metriku.size.m=3\n",
    "\n",
    "metriku.names.matrix <- paste(\"metrik\",seq(1:metriku.size.m),sep=\"_\")\n",
    "metriku.names.cols <- paste(\"kol\",seq(1:metriku.size.c),sep=\".\")\n",
    "metriku.names.rows <- paste(seq(1:metriku.size.r),\"row\",sep=\".\")\n",
    "\n",
    "\n",
    "b <- array(1:3,c(metriku.size.r,metriku.size.c,metriku.size.m),dimnames = list(metriku.names.rows,metriku.names.cols,metriku.names.matrix))\n",
    "\n",
    "print(b)\n",
    "# Orange"
   ]
  },
  {
   "cell_type": "code",
   "execution_count": 143,
   "metadata": {},
   "outputs": [
    {
     "data": {
      "text/html": [
       "<ol class=list-inline>\n",
       "\t<li>'prefix1 2 4'</li>\n",
       "\t<li>'prefix2 2 4'</li>\n",
       "\t<li>'prefix3 2 4'</li>\n",
       "\t<li>'prefix4 2 4'</li>\n",
       "\t<li>'prefix5 2 4'</li>\n",
       "\t<li>'prefix6 2 4'</li>\n",
       "</ol>\n"
      ],
      "text/latex": [
       "\\begin{enumerate*}\n",
       "\\item 'prefix1 2 4'\n",
       "\\item 'prefix2 2 4'\n",
       "\\item 'prefix3 2 4'\n",
       "\\item 'prefix4 2 4'\n",
       "\\item 'prefix5 2 4'\n",
       "\\item 'prefix6 2 4'\n",
       "\\end{enumerate*}\n"
      ],
      "text/markdown": [
       "1. 'prefix1 2 4'\n",
       "2. 'prefix2 2 4'\n",
       "3. 'prefix3 2 4'\n",
       "4. 'prefix4 2 4'\n",
       "5. 'prefix5 2 4'\n",
       "6. 'prefix6 2 4'\n",
       "\n",
       "\n"
      ],
      "text/plain": [
       "[1] \"prefix1 2 4\" \"prefix2 2 4\" \"prefix3 2 4\" \"prefix4 2 4\" \"prefix5 2 4\"\n",
       "[6] \"prefix6 2 4\""
      ]
     },
     "metadata": {},
     "output_type": "display_data"
    }
   ],
   "source": [
    "library(tidyverse)\n",
    "#practice sendiri\n",
    "#https://it.unt.edu/sites/default/files/paste_jds_jun2013.pdf\n",
    "#cheatsheet tai anyim kalo ga pernah dipake buat apa...\n",
    "\n",
    "n <- 6\n",
    "prefix <- paste0(\"prefix\",seq(1:n))\n",
    "suffix <- sprintf(\"sufix%d\",seq(1:n))\n",
    "\n",
    "my.names <- paste(prefix,suffix,sep = \"@\")\n",
    "# my.names\n",
    "\n",
    "#IDK\n",
    "urut <- (as.list(c(paste0(\"coba\",1:3)), all.names = TRUE))\n",
    "\n",
    "#may need implement of my.names on any of column on dataset\n",
    "#here with table column that name is .data\n",
    "# names(my.data) <- my.names\n",
    "#contoh matrix\n",
    "# matrix(c(1,2,3,4, 11,13,13,5),2,4)\n",
    "\n",
    "tabelku.rows <- 2\n",
    "tabelku.cols <- 4\n",
    "tabelku.totdim <- tabelku.cols * tabelku.rows\n",
    "\n",
    "suffix <- sprintf(\"ok%d\",seq(1:tabelku.totdim))\n",
    "\n",
    "tabelku.matrix <- matrix(paste(prefix,suffix,sep = \"_\"),tabelku.cols,tabelku.rows)\n",
    "\n",
    "new.matrix.1 <- matrix(rep(NA, tabelku.totdim), tabelku.cols)\n",
    "#jika rows sudah dideclarasikan dan rows satu objek dengan cols\n",
    "#maka cols tidak perlu ditulis kembali, berlaku sebaliknya\n",
    "# misal\n",
    "# matrik.ok1.cols\n",
    "# matrik.ok1.rows\n",
    "# new.matrix.1\n",
    "\n",
    "\n",
    "\n",
    "practice_mdat_mbuh <- function(x,y,c){\n",
    "    paste0(\"baris\",seq(1:x)) %>% c() -> barisx\n",
    "    paste0(\"kolom\",seq(1:y)) %>% c() -> kolomx\n",
    "    matrix(c(1:(x*y)),x   ,y      ,dimnames = list(barisx,kolomx),byrow = switch(c,\"row\"=T,\"column\"=F))\n",
    "  # matrix(nilaitabel,nRow,nColumn,dimnames = list(anyX  ,anyY  ), byrow=\"T\")\n",
    "  # sebarkan nilai byrow/bycolumn [T/F]\n",
    "}\n",
    "#akan selalu mengisi kolomTerkecil, barisTerkecil\n",
    "#hingga kolomTerkecil memenuhi barisTerbesar\n",
    "#dilanjut kolomKedua dan memenuhi BarisTerbesar\n",
    "#dst\n",
    "\n",
    "#replicate\n",
    "# each       = rep dimasing2 nilai\n",
    "# c(x,y,z,o) = rep menyesuaikan iterasi nilai\n",
    "# rep(nilai, each = 2, times = 2,length.out = 2)\n",
    "# rep(1:4,c(1,1,1,1), length = 3)\n",
    "\n",
    "# <- paste(\n",
    "#             prefix,\n",
    "#             paste(\n",
    "#                 seq(1:tabelku.rows)[j],\n",
    "#                 seq(1:tabelku.cols)[i]))\n",
    "#fillup matrix\n",
    "for(i in 1:tabelku.cols){\n",
    "    for(j in 1:tabelku.rows){\n",
    "        new.matrix.1 <- paste(\n",
    "            prefix,\n",
    "            paste(\n",
    "                seq(1:tabelku.rows)[j],\n",
    "                seq(1:tabelku.cols)[i]\n",
    "            )\n",
    "        )\n",
    "    }\n",
    "    rm(i,j)\n",
    "}\n",
    "new.matrix.1"
   ]
  },
  {
   "cell_type": "code",
   "execution_count": 192,
   "metadata": {},
   "outputs": [],
   "source": [
    "# Training Pemrograman R - Sesi 5: Read and write data"
   ]
  }
 ],
 "metadata": {
  "kernelspec": {
   "display_name": "R",
   "language": "R",
   "name": "ir"
  },
  "language_info": {
   "codemirror_mode": "r",
   "file_extension": ".r",
   "mimetype": "text/x-r-source",
   "name": "R",
   "pygments_lexer": "r",
   "version": "3.6.3"
  }
 },
 "nbformat": 4,
 "nbformat_minor": 4
}
