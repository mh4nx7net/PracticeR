{
 "cells": [
  {
   "cell_type": "code",
   "execution_count": null,
   "metadata": {},
   "outputs": [],
   "source": [
    "## Training Pemrograman R - Sesi 5: Read and write data\n",
    "\n",
    "# data() #cek ketersediaan dataset; class(data()) >> 'packageIQR'\n",
    "# summary(USArrests) help about USArrests\n",
    "coba <- iris\n",
    "head(coba[1:2][5,], n=5)\n",
    "# \tSepal.Length\tSepal.Width\n",
    "#     5\t    5   \t    3.6\n",
    "head(coba[1:2][5,2], n=5)\n",
    "\n",
    "virginico <- iris[iris$Species == 'virginica',] #dengan array dari kolom Species == 'value'\n",
    "# print(virginico)\n",
    "virgi.spl <- virginico$Sepal.Length #masih di 'virginica', seleksi kolom Sepal.Length\n",
    "summary(virgi.spl)\n",
    "max(virgi.spl)\n",
    "min(virgi.spl)\n",
    "mean(virgi.spl)\n",
    "median(virgi.spl)\n",
    "# ?sd #standard devation, carefull!! This function computes the standard deviation of the values in x. If na.rm is TRUE then missing values are removed before computation proceeds. \n",
    "# ?var #variance\n",
    "sd(virgi.spl)\n",
    "\n",
    "#aggregate as simple alternative\n",
    "\n",
    "datax <- aggregate(iris[,1:3],by = list(\"Species\" = iris$Species),max)\n",
    "\n",
    "\n",
    "# ?write\n",
    "write.csv(datax, file='./sesi5.csv')\n",
    "write.table(datax, file='./sesi5.txt', quote=F)\n",
    "\n",
    "# ?read\n",
    "read.table('./sesi5.txt')\n",
    "read.csv('./sesi5.csv',row.names = 1)\n",
    "\n",
    "# ?file #file manipulation through R directly, carefully!!\n",
    "remove_file <- function(ftarget)\n",
    "    if(file.exists(ftarget))\n",
    "        file.remove(ftarget)"
   ]
  }
 ],
 "metadata": {
  "kernelspec": {
   "display_name": "R",
   "language": "R",
   "name": "ir"
  },
  "language_info": {
   "codemirror_mode": "r",
   "file_extension": ".r",
   "mimetype": "text/x-r-source",
   "name": "R",
   "pygments_lexer": "r",
   "version": "3.6.3"
  }
 },
 "nbformat": 4,
 "nbformat_minor": 4
}
