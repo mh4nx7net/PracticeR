{
 "cells": [
  {
   "cell_type": "code",
   "execution_count": 1,
   "metadata": {},
   "outputs": [
    {
     "data": {
      "text/html": [
       "TRUE"
      ],
      "text/latex": [
       "TRUE"
      ],
      "text/markdown": [
       "TRUE"
      ],
      "text/plain": [
       "[1] TRUE"
      ]
     },
     "metadata": {},
     "output_type": "display_data"
    },
    {
     "name": "stdout",
     "output_type": "stream",
     "text": [
      "[1] \"else-true\"\n",
      "[1] \"true\"\n"
     ]
    },
    {
     "data": {
      "text/html": [
       "'true'"
      ],
      "text/latex": [
       "'true'"
      ],
      "text/markdown": [
       "'true'"
      ],
      "text/plain": [
       "[1] \"true\""
      ]
     },
     "metadata": {},
     "output_type": "display_data"
    },
    {
     "name": "stdout",
     "output_type": "stream",
     "text": [
      "[1] \"arrNo3\"\n",
      "[1] 1\n",
      "[1] 2\n",
      "[1] \"coba\"\n",
      "[1] \"coba\"\n",
      "[1] \"coba\"\n",
      "[1] 0\n",
      "[1] 1\n",
      "[1] 2\n",
      "[1] 3\n",
      "[1] 4\n"
     ]
    }
   ],
   "source": [
    "#Training Pemrograman R - Sesi 2: Logical operators, Flow Control dan Looping\n",
    "\n",
    "####logical operation: >,<,=,!\n",
    "a = 10\n",
    "b = 20\n",
    "a<b\n",
    "\n",
    "####if else\n",
    "if(0){\n",
    "    print(\"true\")\n",
    "}else{\n",
    "    if(1)\n",
    "        print(\"else-true\")\n",
    "    else\n",
    "        print(\"else-else\")\n",
    "}\n",
    "\n",
    "(\n",
    "    if(1)\n",
    "        print(\"true\")\n",
    "    else\n",
    "        print(\"else\")\n",
    ")\n",
    "\n",
    "####switch\n",
    "nilSW_input=3\n",
    "#switch(checker,arrNo1,arrNo2,arrNo3,etc)\n",
    "#switch(checker,ifthis,ifthis,orthis)\n",
    "#switch(\n",
    "#    checker,\n",
    "#    check1=\"do this\"\n",
    "#    check2=\"do else\"\n",
    "#)\n",
    "switch(\n",
    "    nilSW_input,\n",
    "    1,\n",
    "    print(\"ok\"),\n",
    "    print(\"arrNo3\")\n",
    ")\n",
    "\n",
    "#### for iteration in iterate_list\n",
    "for(i in 1:2){print(i)}\n",
    "for(i in 1:3)\n",
    "    print(\"coba\")\n",
    "\n",
    "#### while meet condition\n",
    "n=0\n",
    "while(n<5){\n",
    "    print(n)\n",
    "    n=n+1\n",
    "}\n",
    "\n",
    "##########################TUGAS\n",
    "#1.print nilai sesuai input\n",
    "numGen <- function(x){\n",
    "    for(i in readline(prompt = \"masukan nilai awal: \"):readline(\"masukan nilai akhir: \"))\n",
    "    message(i)\n",
    "}\n",
    "\n",
    "#prima atau ganjil\n",
    "prim_gan <- function(menu){\n",
    "    #2.print semua bilangan prima\n",
    "    bil_prim <- function(nilai){\n",
    "        if(nilai%%2==0) cat(sprintf(\"%d adalah nomor genap\\n\",nilai))\n",
    "        else print(\"terjadi kesalahan\")\n",
    "    }\n",
    "    if(menu==\"prima\")\n",
    "        for(i in readline(prompt = \"awal: \"):readline(prompt = \"akhir: \")){\n",
    "    }\n",
    "}\n"
   ]
  }
 ],
 "metadata": {
  "kernelspec": {
   "display_name": "R",
   "language": "R",
   "name": "ir"
  },
  "language_info": {
   "codemirror_mode": "r",
   "file_extension": ".r",
   "mimetype": "text/x-r-source",
   "name": "R",
   "pygments_lexer": "r",
   "version": "3.6.3"
  }
 },
 "nbformat": 4,
 "nbformat_minor": 4
}
