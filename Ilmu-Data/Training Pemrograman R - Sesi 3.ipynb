{
 "cells": [
  {
   "cell_type": "code",
   "execution_count": null,
   "metadata": {},
   "outputs": [],
   "source": [
    "##    bil_prim <- function(nilai){\n",
    "        if(nilai/2==0) cat(sprintf(\"%d adalah nomor prima\\n\",nilai))\n",
    "        else cat(sprintf(\"terjadi kesalahan/ %d bukan bil prima\\n\",nilai))\n",
    "    }\n",
    "    bil_ganjil <- function(nilai){\n",
    "        if(nilai%%2==1) cat(sprintf(\"%d adalah nomor ganjil\\n\",nilai))\n",
    "        else cat(sprintf(\"terjadi kesalahan/ %d bukan bil ganjil\\n\",nilai))\n",
    "    }\n",
    "bil_prim(3)\n",
    "\n",
    "batas <- as.numeric(readline(prompt = \"Masukkan batas akhir = \"))\n",
    "\n",
    "angka <- 1\n",
    "\n",
    "while(angka<=batas){\n",
    "\n",
    "  faktor <- 0\n",
    "\n",
    "  pembagi <- 1\n",
    "\n",
    "  while(pembagi<=angka){\n",
    "\n",
    "    if(angka %% pembagi == 0)\n",
    "\n",
    "      faktor <- faktor + 1\n",
    "\n",
    "      pembagi <- pembagi + 1\n",
    "\n",
    "    }\n",
    "\n",
    "    if(faktor == 2)\n",
    "\n",
    "      print(angka)\n",
    "\n",
    "      angka <- angka + 1\n",
    "\n",
    "}"
   ]
  }
 ],
 "metadata": {
  "kernelspec": {
   "display_name": "R",
   "language": "R",
   "name": "ir"
  },
  "language_info": {
   "codemirror_mode": "r",
   "file_extension": ".r",
   "mimetype": "text/x-r-source",
   "name": "R",
   "pygments_lexer": "r",
   "version": "3.6.3"
  }
 },
 "nbformat": 4,
 "nbformat_minor": 4
}
