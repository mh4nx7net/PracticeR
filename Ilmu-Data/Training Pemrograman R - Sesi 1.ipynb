{
 "cells": [
  {
   "cell_type": "code",
   "execution_count": 4,
   "metadata": {},
   "outputs": [
    {
     "name": "stderr",
     "output_type": "stream",
     "text": [
      "── Attaching packages ─────────────────────────────────────── tidyverse 1.2.1 ──\n",
      "✔ ggplot2 3.3.1     ✔ purrr   0.3.2\n",
      "✔ tibble  3.0.1     ✔ dplyr   1.0.0\n",
      "✔ tidyr   0.8.3     ✔ stringr 1.4.0\n",
      "✔ readr   1.3.1     ✔ forcats 0.4.0\n",
      "── Conflicts ────────────────────────────────────────── tidyverse_conflicts() ──\n",
      "✖ dplyr::filter() masks stats::filter()\n",
      "✖ dplyr::lag()    masks stats::lag()\n"
     ]
    }
   ],
   "source": [
    "library(tidyverse)"
   ]
  },
  {
   "cell_type": "code",
   "execution_count": 285,
   "metadata": {},
   "outputs": [
    {
     "data": {
      "text/html": [
       "'/home/dev/Documents/SADASA/practice'"
      ],
      "text/latex": [
       "'/home/dev/Documents/SADASA/practice'"
      ],
      "text/markdown": [
       "'/home/dev/Documents/SADASA/practice'"
      ],
      "text/plain": [
       "[1] \"/home/dev/Documents/SADASA/practice\""
      ]
     },
     "metadata": {},
     "output_type": "display_data"
    },
    {
     "name": "stdout",
     "output_type": "stream",
     "text": [
      "[1] \"1\"    \"1\"    \"coba\"\n",
      "[1] 21\n",
      "coba maneh\n"
     ]
    },
    {
     "data": {
      "text/html": [
       "'coba bedanya\\n\\t'"
      ],
      "text/latex": [
       "'coba bedanya\\textbackslash{}n\\textbackslash{}t'"
      ],
      "text/markdown": [
       "'coba bedanya\\n\\t'"
      ],
      "text/plain": [
       "[1] \"coba bedanya\\n\\t\""
      ]
     },
     "metadata": {},
     "output_type": "display_data"
    },
    {
     "name": "stdout",
     "output_type": "stream",
     "text": [
      "[1] \"coba\"      \"bedanya\\n\"\n",
      "tulis namamu disini: \n",
      "[1] \"namamu adalah:  \"\n"
     ]
    },
    {
     "data": {
      "text/html": [
       "'tulis namamu: ini nama\\n ini nilaimu: 10'"
      ],
      "text/latex": [
       "'tulis namamu: ini nama\\textbackslash{}n ini nilaimu: 10'"
      ],
      "text/markdown": [
       "'tulis namamu: ini nama\\n ini nilaimu: 10'"
      ],
      "text/plain": [
       "[1] \"tulis namamu: ini nama\\n ini nilaimu: 10\""
      ]
     },
     "metadata": {},
     "output_type": "display_data"
    },
    {
     "name": "stdout",
     "output_type": "stream",
     "text": [
      "tulis namamu: ini nama\n",
      "ini nilaimu: 10"
     ]
    },
    {
     "name": "stderr",
     "output_type": "stream",
     "text": [
      "tulis namamu: ini nama\n",
      "ini nilaimu: 10\n"
     ]
    },
    {
     "data": {
      "text/html": [
       "'nilai: 10'"
      ],
      "text/latex": [
       "'nilai: 10'"
      ],
      "text/markdown": [
       "'nilai: 10'"
      ],
      "text/plain": [
       "nilai: 10"
      ]
     },
     "metadata": {},
     "output_type": "display_data"
    },
    {
     "name": "stdout",
     "output_type": "stream",
     "text": [
      "siapa? ok\n"
     ]
    },
    {
     "name": "stderr",
     "output_type": "stream",
     "text": [
      "namamu adalah: ok\n"
     ]
    }
   ],
   "source": [
    "#Training Pemrograman R - Sesi 1: Variabel, Assignment dan Operasi Aritmetika\n",
    "getwd()\n",
    "setwd(\"./\")\n",
    "a <- 1\n",
    "b = as.factor(a)\n",
    "c = \"coba\"\n",
    "print(c(a,b,c))\n",
    "\n",
    "d = (9%%2)+(10/2)*(2^2)\n",
    "print(d)\n",
    "\n",
    "cat(\"coba\",\"maneh\\n\")\n",
    "paste(\"coba\", \"bedanya\\n\\t\")\n",
    "print(c(\"coba\",\"bedanya\\n\"))\n",
    "\n",
    "\n",
    "nama=\"ini nama\"\n",
    "nilai=10\n",
    "print(paste(\"namamu adalah: \",readline(prompt = \"tulis namamu disini: \")))\n",
    "sprintf(\"tulis namamu: %s\\n ini nilaimu: %d\",nama,nilai)\n",
    "cat(sprintf(\"tulis namamu: %s\\nini nilaimu: %d\",nama,nilai))\n",
    "message(sprintf(\"tulis namamu: %s\\nini nilaimu: %d\",nama,nilai))\n",
    "#glue with cruel bracket\n",
    "library(glue)\n",
    "glue(\"nilai: {nilai}\")\n",
    "\n",
    "nama=readline(prompt=\"siapa? \")\n",
    "message(glue(\"namamu adalah: {nama}\"))"
   ]
  }
 ],
 "metadata": {
  "kernelspec": {
   "display_name": "R",
   "language": "R",
   "name": "ir"
  },
  "language_info": {
   "codemirror_mode": "r",
   "file_extension": ".r",
   "mimetype": "text/x-r-source",
   "name": "R",
   "pygments_lexer": "r",
   "version": "3.6.3"
  }
 },
 "nbformat": 4,
 "nbformat_minor": 4
}
