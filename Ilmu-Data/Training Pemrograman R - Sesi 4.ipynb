{
 "cells": [
  {
   "cell_type": "code",
   "execution_count": 2,
   "metadata": {},
   "outputs": [
    {
     "name": "stdout",
     "output_type": "stream",
     "text": [
      "     [,1] [,2] [,3] [,4]\n",
      "[1,]    1    2    3    1\n"
     ]
    },
    {
     "name": "stderr",
     "output_type": "stream",
     "text": [
      "1231\n"
     ]
    },
    {
     "name": "stdout",
     "output_type": "stream",
     "text": [
      "     [,1] [,2] [,3] [,4]\n",
      "[1,]    1    3    2    1\n",
      "[2,]    2    1    3    2\n"
     ]
    },
    {
     "name": "stderr",
     "output_type": "stream",
     "text": [
      "12312312\n"
     ]
    },
    {
     "name": "stdout",
     "output_type": "stream",
     "text": [
      "     [,1] [,2] [,3] [,4]\n",
      "[1,]    1    1    1    1\n",
      "[2,]    2    2    2    2\n",
      "[3,]    3    3    3    3\n"
     ]
    },
    {
     "name": "stderr",
     "output_type": "stream",
     "text": [
      "123123123123\n"
     ]
    },
    {
     "name": "stdout",
     "output_type": "stream",
     "text": [
      ", , metrik_1\n",
      "\n",
      "      kol.1 kol.2 kol.3 kol.4\n",
      "1.row     1     1     1     1\n",
      "2.row     2     2     2     2\n",
      "3.row     3     3     3     3\n",
      "\n",
      ", , metrik_2\n",
      "\n",
      "      kol.1 kol.2 kol.3 kol.4\n",
      "1.row     1     1     1     1\n",
      "2.row     2     2     2     2\n",
      "3.row     3     3     3     3\n",
      "\n",
      ", , metrik_3\n",
      "\n",
      "      kol.1 kol.2 kol.3 kol.4\n",
      "1.row     1     1     1     1\n",
      "2.row     2     2     2     2\n",
      "3.row     3     3     3     3\n",
      "\n"
     ]
    }
   ],
   "source": [
    "#Training Pemrograman R - Sesi 4: Collection\n",
    "x <- c(1:3)\n",
    "c(3:5) -> y\n",
    "#b <- array(1:3,array(1:3))\n",
    "#b <- array(1:3,c(2,3,4))\n",
    "c <- x + y\n",
    "#    OR\n",
    "     x - y -> c\n",
    "#collide as one\n",
    "#     ----->\n",
    "#x = [1,2,3] |\n",
    "#y = [3,4,5] |\n",
    "#c = [4,6,8] v\n",
    "\n",
    "a <- array(1:5)\n",
    "# a[0] for header\n",
    "# a[1] |output|>> 1\n",
    "\n",
    "\n",
    "#ingat, yang akan dipenuhi dulu adalah kolomnya!!\n",
    "#buktikan dengan array2 dimensi dibawah!!\n",
    "b <- array(1:3,c(1,4)); message(print(b)) #1row x 4column\n",
    "#|output|>> 1 2 3 1\n",
    "b <- array(1:3,c(2,4)); message(print(b)) #2row x 4column\n",
    "#|output|>> 1 3 2 1\n",
    "#        >> 2 1 3 2\n",
    "b <- array(1:3,c(3,4)); message(print(b)) #3row x 4column\n",
    "#|output|>> 1 1 1 1\n",
    "#        >> 2 2 2 2\n",
    "#        >> 3 3 3 3\n",
    "\n",
    "\n",
    "# coba array 3 dimensi\n",
    "# array(nilai,besaran dimensi)\n",
    "# array(data = ,dim = ,dimnames = )\n",
    "# dimensi= c(x,y,z)\n",
    "data.frame(head1 = c(1:3),head2 = c(1:3)) -> z\n",
    "\n",
    "# dim4      dim3    dim2\n",
    "# (1,1)\n",
    "#    aaa\n",
    "#    axx\n",
    "# (1,2)     (1)\n",
    "#    aaa     aaa\n",
    "#    bxx     bbb    (NA)\n",
    "#                     aaa\n",
    "# (2,1)     (2)       bbb\n",
    "#    bbb     aaa\n",
    "#    axx     bbb\n",
    "# (2,2)\n",
    "#    bbb\n",
    "#    bxx\n",
    "#message(print(b)) #Error in array(1:3, 1, 2): 'dimnames' must be a list\n",
    "metriku.size.r=3\n",
    "metriku.size.c=4\n",
    "metriku.size.m=3\n",
    "\n",
    "metriku.names.matrix <- paste(\"metrik\",seq(1:metriku.size.m),sep=\"_\")\n",
    "metriku.names.cols <- paste(\"kol\",seq(1:metriku.size.c),sep=\".\")\n",
    "metriku.names.rows <- paste(seq(1:metriku.size.r),\"row\",sep=\".\")\n",
    "\n",
    "\n",
    "b <- array(1:3,c(metriku.size.r,metriku.size.c,metriku.size.m),dimnames = list(metriku.names.rows,metriku.names.cols,metriku.names.matrix))\n",
    "\n",
    "print(b)\n",
    "# Orange"
   ]
  },
  {
   "cell_type": "code",
   "execution_count": 4,
   "metadata": {},
   "outputs": [
    {
     "data": {
      "text/html": [
       "<ol class=list-inline>\n",
       "\t<li>'prefix1.2_4'</li>\n",
       "\t<li>'prefix2.2_4'</li>\n",
       "\t<li>'prefix3.2_4'</li>\n",
       "\t<li>'prefix4.2_4'</li>\n",
       "\t<li>'prefix5.2_4'</li>\n",
       "\t<li>'prefix6.2_4'</li>\n",
       "</ol>\n"
      ],
      "text/latex": [
       "\\begin{enumerate*}\n",
       "\\item 'prefix1.2\\_4'\n",
       "\\item 'prefix2.2\\_4'\n",
       "\\item 'prefix3.2\\_4'\n",
       "\\item 'prefix4.2\\_4'\n",
       "\\item 'prefix5.2\\_4'\n",
       "\\item 'prefix6.2\\_4'\n",
       "\\end{enumerate*}\n"
      ],
      "text/markdown": [
       "1. 'prefix1.2_4'\n",
       "2. 'prefix2.2_4'\n",
       "3. 'prefix3.2_4'\n",
       "4. 'prefix4.2_4'\n",
       "5. 'prefix5.2_4'\n",
       "6. 'prefix6.2_4'\n",
       "\n",
       "\n"
      ],
      "text/plain": [
       "[1] \"prefix1.2_4\" \"prefix2.2_4\" \"prefix3.2_4\" \"prefix4.2_4\" \"prefix5.2_4\"\n",
       "[6] \"prefix6.2_4\""
      ]
     },
     "metadata": {},
     "output_type": "display_data"
    }
   ],
   "source": [
    "library(tidyverse)\n",
    "#practice sendiri\n",
    "#https://it.unt.edu/sites/default/files/paste_jds_jun2013.pdf\n",
    "#cheatsheet tai anyim kalo ga pernah dipake buat apa...\n",
    "\n",
    "n <- 6\n",
    "prefix <- paste0(\"prefix\",seq(1:n))\n",
    "suffix <- sprintf(\"sufix%d\",seq(1:n))\n",
    "\n",
    "my.names <- paste(prefix,suffix,sep = \"@\")\n",
    "# my.names\n",
    "\n",
    "#IDK\n",
    "urut <- (as.list(c(paste0(\"coba\",1:3)), all.names = TRUE))\n",
    "\n",
    "#may need implement of my.names on any of column on dataset\n",
    "#here with table column that name is .data\n",
    "# names(my.data) <- my.names\n",
    "#contoh matrix\n",
    "# matrix(c(1,2,3,4, 11,13,13,5),2,4)\n",
    "\n",
    "tabelku.rows <- 2\n",
    "tabelku.cols <- 4\n",
    "tabelku.totdim <- tabelku.cols * tabelku.rows\n",
    "\n",
    "suffix <- sprintf(\"ok%d\",seq(1:tabelku.totdim))\n",
    "\n",
    "tabelku.matrix <- matrix(paste(prefix,suffix,sep = \"_\"),tabelku.cols,tabelku.rows)\n",
    "\n",
    "new.matrix.1 <- matrix(rep(NA, tabelku.totdim), tabelku.cols)\n",
    "#jika rows sudah dideclarasikan dan rows satu objek dengan cols\n",
    "#maka cols tidak perlu ditulis kembali, berlaku sebaliknya\n",
    "# misal\n",
    "# matrik.ok1.cols\n",
    "# matrik.ok1.rows\n",
    "# new.matrix.1\n",
    "\n",
    "\n",
    "\n",
    "practice_mdat_mbuh <- function(x,y,c){\n",
    "    paste0(\"baris\",seq(1:x)) %>% c() -> barisx\n",
    "    paste0(\"kolom\",seq(1:y)) %>% c() -> kolomx\n",
    "    matrix(c(1:(x*y)),x   ,y      ,dimnames = list(barisx,kolomx),byrow = switch(c,\"row\"=T,\"column\"=F))\n",
    "  # matrix(nilaitabel,nRow,nColumn,dimnames = list(anyX  ,anyY  ), byrow=\"T\")\n",
    "  # sebarkan nilai byrow/bycolumn [T/F]\n",
    "}\n",
    "#akan selalu mengisi kolomTerkecil, barisTerkecil\n",
    "#hingga kolomTerkecil memenuhi barisTerbesar\n",
    "#dilanjut kolomKedua dan memenuhi BarisTerbesar\n",
    "#dst\n",
    "\n",
    "#replicate\n",
    "# each       = rep dimasing2 nilai\n",
    "# c(x,y,z,o) = rep menyesuaikan iterasi nilai\n",
    "# rep(nilai, each = 2, times = 2,length.out = 2)\n",
    "# rep(1:4,c(1,1,1,1), length = 3)\n",
    "\n",
    "# <- paste(\n",
    "#             prefix,\n",
    "#             paste(\n",
    "#                 seq(1:tabelku.rows)[j],\n",
    "#                 seq(1:tabelku.cols)[i]))\n",
    "#fillup matrix\n",
    "for(i in 1:tabelku.rows){\n",
    "    for(j in 1:tabelku.cols){\n",
    "        new.matrix.1 <- paste(\n",
    "            prefix,\n",
    "            paste(\n",
    "                seq(1:tabelku.rows)[i],\n",
    "                seq(1:tabelku.cols)[j],\n",
    "                sep = \"_\"),\n",
    "            sep = \".\"\n",
    "        )\n",
    "    }\n",
    "    rm(i,j)\n",
    "}\n",
    "new.matrix.1"
   ]
  }
 ],
 "metadata": {
  "kernelspec": {
   "display_name": "R",
   "language": "R",
   "name": "ir"
  },
  "language_info": {
   "codemirror_mode": "r",
   "file_extension": ".r",
   "mimetype": "text/x-r-source",
   "name": "R",
   "pygments_lexer": "r",
   "version": "3.6.3"
  }
 },
 "nbformat": 4,
 "nbformat_minor": 4
}
